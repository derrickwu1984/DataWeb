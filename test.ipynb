{
 "cells": [
  {
   "cell_type": "code",
   "execution_count": 1,
   "metadata": {
    "collapsed": true
   },
   "outputs": [],
   "source": [
    "import os"
   ]
  },
  {
   "cell_type": "code",
   "execution_count": 11,
   "metadata": {},
   "outputs": [],
   "source": [
    "def gci(filepath):\n",
    "#遍历filepath下所有文件，包括子目录\n",
    "  files = os.listdir(filepath)\n",
    "  for fi in files:\n",
    "    print (fi)\n",
    "    fi_d = os.path.join(filepath,fi)\n",
    "    print (fi_d)\n",
    "    if os.path.isdir(fi_d):\n",
    "        gci(fi_d)\n",
    "    else:\n",
    "        pass\n",
    "        # print(os.path.join(filepath,fi_d))"
   ]
  },
  {
   "cell_type": "code",
   "execution_count": 12,
   "metadata": {},
   "outputs": [
    {
     "name": "stdout",
     "output_type": "stream",
     "text": [
      ".ipynb_checkpoints\ncy\\.ipynb_checkpoints\ncy.txt\ncy\\cy.txt\n"
     ]
    }
   ],
   "source": [
    "gci('cy')"
   ]
  },
  {
   "cell_type": "code",
   "execution_count": null,
   "metadata": {},
   "outputs": [],
   "source": []
  }
 ],
 "metadata": {
  "kernelspec": {
   "display_name": "Python 2",
   "language": "python",
   "name": "python2"
  },
  "language_info": {
   "codemirror_mode": {
    "name": "ipython",
    "version": 2
   },
   "file_extension": ".py",
   "mimetype": "text/x-python",
   "name": "python",
   "nbconvert_exporter": "python",
   "pygments_lexer": "ipython2",
   "version": "2.7.6"
  }
 },
 "nbformat": 4,
 "nbformat_minor": 0
}
